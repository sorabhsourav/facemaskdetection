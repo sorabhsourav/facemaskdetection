{
 "cells": [
  {
   "cell_type": "code",
   "execution_count": 1,
   "id": "25b9cd52",
   "metadata": {},
   "outputs": [],
   "source": [
    "import numpy as np\n",
    "import cv2"
   ]
  },
  {
   "cell_type": "code",
   "execution_count": 2,
   "id": "207d242e",
   "metadata": {},
   "outputs": [],
   "source": [
    "with_mask = np.load('with_mask.npy')\n",
    "without_mask = np.load('without_mask.npy')"
   ]
  },
  {
   "cell_type": "code",
   "execution_count": 3,
   "id": "c7a0d154",
   "metadata": {},
   "outputs": [
    {
     "data": {
      "text/plain": [
       "(200, 50, 50, 3)"
      ]
     },
     "execution_count": 3,
     "metadata": {},
     "output_type": "execute_result"
    }
   ],
   "source": [
    "with_mask.shape"
   ]
  },
  {
   "cell_type": "code",
   "execution_count": 4,
   "id": "feccb932",
   "metadata": {},
   "outputs": [
    {
     "data": {
      "text/plain": [
       "(200, 50, 50, 3)"
      ]
     },
     "execution_count": 4,
     "metadata": {},
     "output_type": "execute_result"
    }
   ],
   "source": [
    "without_mask.shape"
   ]
  },
  {
   "cell_type": "code",
   "execution_count": 5,
   "id": "3f103a56",
   "metadata": {},
   "outputs": [],
   "source": [
    "#converting these 4-d datas to 2-d"
   ]
  },
  {
   "cell_type": "code",
   "execution_count": 6,
   "id": "8daa5e1c",
   "metadata": {},
   "outputs": [],
   "source": [
    "with_mask = with_mask.reshape(200,50*50*3)\n",
    "without_mask = without_mask.reshape(200,50*50*3)"
   ]
  },
  {
   "cell_type": "code",
   "execution_count": 7,
   "id": "c586a45e",
   "metadata": {},
   "outputs": [
    {
     "data": {
      "text/plain": [
       "(200, 7500)"
      ]
     },
     "execution_count": 7,
     "metadata": {},
     "output_type": "execute_result"
    }
   ],
   "source": [
    "with_mask.shape"
   ]
  },
  {
   "cell_type": "code",
   "execution_count": 8,
   "id": "be9d380b",
   "metadata": {},
   "outputs": [
    {
     "data": {
      "text/plain": [
       "(200, 7500)"
      ]
     },
     "execution_count": 8,
     "metadata": {},
     "output_type": "execute_result"
    }
   ],
   "source": [
    "without_mask.shape"
   ]
  },
  {
   "cell_type": "code",
   "execution_count": 9,
   "id": "9011f184",
   "metadata": {},
   "outputs": [],
   "source": [
    "X = np.r_[with_mask, without_mask]   # r_ is used to concatenate diff datas"
   ]
  },
  {
   "cell_type": "code",
   "execution_count": 10,
   "id": "4cb63d41",
   "metadata": {},
   "outputs": [
    {
     "data": {
      "text/plain": [
       "(400, 7500)"
      ]
     },
     "execution_count": 10,
     "metadata": {},
     "output_type": "execute_result"
    }
   ],
   "source": [
    "X.shape"
   ]
  },
  {
   "cell_type": "code",
   "execution_count": 11,
   "id": "44dfb364",
   "metadata": {},
   "outputs": [],
   "source": [
    "labels = np.zeros(X.shape[0]) # 0 = zeros in python\n",
    "#i will label with mask as  0 and without mask as 1"
   ]
  },
  {
   "cell_type": "code",
   "execution_count": 12,
   "id": "660c9876",
   "metadata": {},
   "outputs": [],
   "source": [
    "labels[200:] = 1.0        # pointing to without mask as 1"
   ]
  },
  {
   "cell_type": "code",
   "execution_count": 30,
   "id": "692bc375",
   "metadata": {},
   "outputs": [],
   "source": [
    "names = {0 : ' mask', 1 : 'no mask'}"
   ]
  },
  {
   "cell_type": "code",
   "execution_count": 14,
   "id": "2693b402",
   "metadata": {
    "scrolled": false
   },
   "outputs": [
    {
     "name": "stdout",
     "output_type": "stream",
     "text": [
      "Requirement already satisfied: sklearn in c:\\users\\acer\\appdata\\local\\programs\\python\\python310\\lib\\site-packages (0.0)\n",
      "Requirement already satisfied: scikit-learn in c:\\users\\acer\\appdata\\local\\programs\\python\\python310\\lib\\site-packages (from sklearn) (1.0.2)\n",
      "Requirement already satisfied: joblib>=0.11 in c:\\users\\acer\\appdata\\local\\programs\\python\\python310\\lib\\site-packages (from scikit-learn->sklearn) (1.1.0)\n",
      "Requirement already satisfied: numpy>=1.14.6 in c:\\users\\acer\\appdata\\local\\programs\\python\\python310\\lib\\site-packages (from scikit-learn->sklearn) (1.22.3)\n",
      "Requirement already satisfied: scipy>=1.1.0 in c:\\users\\acer\\appdata\\local\\programs\\python\\python310\\lib\\site-packages (from scikit-learn->sklearn) (1.8.0)\n",
      "Requirement already satisfied: threadpoolctl>=2.0.0 in c:\\users\\acer\\appdata\\local\\programs\\python\\python310\\lib\\site-packages (from scikit-learn->sklearn) (3.1.0)\n"
     ]
    },
    {
     "name": "stderr",
     "output_type": "stream",
     "text": [
      "WARNING: You are using pip version 22.0.4; however, version 22.2.2 is available.\n",
      "You should consider upgrading via the 'C:\\Users\\ACER\\AppData\\Local\\Programs\\Python\\Python310\\python.exe -m pip install --upgrade pip' command.\n"
     ]
    }
   ],
   "source": [
    "!pip install sklearn"
   ]
  },
  {
   "cell_type": "code",
   "execution_count": 15,
   "id": "074be68a",
   "metadata": {},
   "outputs": [],
   "source": [
    "from sklearn.svm import SVC\n",
    "from sklearn.metrics import accuracy_score\n",
    "\n",
    "#SVM = SUPPORT VECTOR MACHINE\n",
    "#SVC = SUPPROT VECTOR CLASSIFICATION"
   ]
  },
  {
   "cell_type": "code",
   "execution_count": 16,
   "id": "63a16f99",
   "metadata": {},
   "outputs": [],
   "source": [
    "from sklearn.model_selection import train_test_split"
   ]
  },
  {
   "cell_type": "code",
   "execution_count": 17,
   "id": "cd05261b",
   "metadata": {},
   "outputs": [],
   "source": [
    "x_train, x_test, y_train, y_test = train_test_split(X,labels,test_size=0.25)"
   ]
  },
  {
   "cell_type": "code",
   "execution_count": 18,
   "id": "efbb0d3e",
   "metadata": {},
   "outputs": [
    {
     "data": {
      "text/plain": [
       "(300, 7500)"
      ]
     },
     "execution_count": 18,
     "metadata": {},
     "output_type": "execute_result"
    }
   ],
   "source": [
    "x_train.shape"
   ]
  },
  {
   "cell_type": "code",
   "execution_count": 19,
   "id": "e0cae396",
   "metadata": {},
   "outputs": [],
   "source": [
    "#dimensionality reduction in machine learning is used to reduce time taken by algorithm\n",
    "#because here are 7500 columns i can reduce dimension i can make it 2-d or 3d to fasten algo"
   ]
  },
  {
   "cell_type": "code",
   "execution_count": 20,
   "id": "5e70153b",
   "metadata": {},
   "outputs": [],
   "source": [
    "#PCA = principal component analysis\n",
    "from sklearn.decomposition import PCA"
   ]
  },
  {
   "cell_type": "code",
   "execution_count": 21,
   "id": "ce5d1f2e",
   "metadata": {},
   "outputs": [],
   "source": [
    "pca = PCA(n_components=3)\n",
    "x_train = pca.fit_transform(x_train)"
   ]
  },
  {
   "cell_type": "code",
   "execution_count": 22,
   "id": "7d28b0fa",
   "metadata": {},
   "outputs": [
    {
     "data": {
      "text/plain": [
       "array([-2229.31124407,  1242.26447093,  -127.31234849])"
      ]
     },
     "execution_count": 22,
     "metadata": {},
     "output_type": "execute_result"
    }
   ],
   "source": [
    "x_train[0]"
   ]
  },
  {
   "cell_type": "code",
   "execution_count": 23,
   "id": "681ee645",
   "metadata": {},
   "outputs": [
    {
     "data": {
      "text/plain": [
       "(300, 3)"
      ]
     },
     "execution_count": 23,
     "metadata": {},
     "output_type": "execute_result"
    }
   ],
   "source": [
    "x_train.shape #earlier it was 300,7500"
   ]
  },
  {
   "cell_type": "code",
   "execution_count": 24,
   "id": "98e3de12",
   "metadata": {},
   "outputs": [],
   "source": [
    "x_train, x_test, y_train, y_test = train_test_split(X,labels,test_size=0.20)"
   ]
  },
  {
   "cell_type": "code",
   "execution_count": 25,
   "id": "23f181ed",
   "metadata": {},
   "outputs": [
    {
     "data": {
      "text/plain": [
       "SVC()"
      ]
     },
     "execution_count": 25,
     "metadata": {},
     "output_type": "execute_result"
    }
   ],
   "source": [
    "svm = SVC()\n",
    "svm.fit(x_train, y_train)"
   ]
  },
  {
   "cell_type": "code",
   "execution_count": 26,
   "id": "23937d17",
   "metadata": {},
   "outputs": [],
   "source": [
    "#x_test = pca.transform(x_test)\n",
    "y_pred = svm.predict(x_test)"
   ]
  },
  {
   "cell_type": "code",
   "execution_count": 27,
   "id": "e46b6380",
   "metadata": {},
   "outputs": [
    {
     "data": {
      "text/plain": [
       "1.0"
      ]
     },
     "execution_count": 27,
     "metadata": {},
     "output_type": "execute_result"
    }
   ],
   "source": [
    "accuracy_score(y_test, y_pred)"
   ]
  },
  {
   "cell_type": "code",
   "execution_count": 28,
   "id": "eedfa0f1",
   "metadata": {},
   "outputs": [],
   "source": [
    "# here , if we are getting 1.0 as accuracy this means the data is overfitting\n",
    "# so we need to do the reshuffeling of the data and re run it until we get \n",
    "# different accuracy"
   ]
  },
  {
   "cell_type": "code",
   "execution_count": 31,
   "id": "fe3b545f",
   "metadata": {},
   "outputs": [
    {
     "name": "stdout",
     "output_type": "stream",
     "text": [
      "no mask\n",
      "no mask\n",
      "no mask\n",
      "no mask\n",
      "no mask\n",
      "no mask\n",
      "no mask\n",
      "no mask\n",
      "no mask\n",
      "no mask\n",
      "no mask\n",
      "no mask\n",
      "no mask\n",
      "no mask\n",
      "no mask\n",
      "no mask\n",
      "no mask\n",
      "no mask\n",
      "no mask\n",
      "no mask\n",
      "no mask\n",
      "no mask\n",
      "no mask\n",
      "no mask\n",
      "no mask\n",
      "no mask\n",
      "no mask\n",
      "no mask\n",
      "no mask\n",
      "no mask\n",
      "no mask\n",
      "no mask\n",
      "no mask\n",
      "no mask\n",
      "no mask\n",
      "no mask\n",
      "no mask\n",
      "no mask\n",
      "no mask\n",
      "no mask\n",
      "no mask\n",
      "no mask\n",
      "no mask\n",
      "no mask\n",
      "no mask\n",
      "no mask\n",
      "no mask\n",
      "no mask\n",
      "no mask\n",
      "no mask\n",
      " mask\n",
      "no mask\n",
      "no mask\n",
      "no mask\n",
      "no mask\n",
      "no mask\n",
      "no mask\n",
      "no mask\n",
      "no mask\n",
      "no mask\n",
      "no mask\n",
      "no mask\n",
      "no mask\n",
      "no mask\n",
      "no mask\n",
      "no mask\n",
      "no mask\n",
      "no mask\n",
      "no mask\n",
      "no mask\n",
      "no mask\n",
      "no mask\n",
      "no mask\n",
      "no mask\n",
      "no mask\n",
      "no mask\n",
      " mask\n",
      " mask\n",
      " mask\n",
      " mask\n",
      " mask\n",
      " mask\n",
      " mask\n",
      " mask\n",
      " mask\n",
      " mask\n",
      " mask\n",
      " mask\n",
      " mask\n",
      " mask\n",
      " mask\n",
      "no mask\n",
      " mask\n",
      " mask\n",
      " mask\n",
      " mask\n",
      " mask\n",
      "no mask\n",
      " mask\n",
      " mask\n",
      " mask\n",
      " mask\n",
      " mask\n",
      " mask\n",
      " mask\n",
      " mask\n",
      " mask\n",
      " mask\n",
      " mask\n",
      " mask\n",
      " mask\n",
      " mask\n",
      " mask\n",
      " mask\n",
      " mask\n",
      " mask\n",
      " mask\n",
      " mask\n",
      " mask\n",
      " mask\n",
      " mask\n",
      " mask\n",
      " mask\n",
      " mask\n",
      " mask\n",
      " mask\n",
      " mask\n",
      " mask\n",
      " mask\n",
      " mask\n",
      "no mask\n",
      " mask\n",
      "no mask\n",
      " mask\n",
      "no mask\n",
      "no mask\n",
      "no mask\n",
      "no mask\n",
      " mask\n",
      "no mask\n",
      "no mask\n",
      " mask\n",
      "no mask\n",
      " mask\n",
      "no mask\n",
      " mask\n",
      "no mask\n",
      "no mask\n",
      "no mask\n",
      " mask\n",
      "no mask\n",
      " mask\n",
      "no mask\n",
      " mask\n",
      "no mask\n",
      " mask\n",
      "no mask\n",
      "no mask\n",
      "no mask\n",
      "no mask\n",
      "no mask\n",
      " mask\n",
      "no mask\n",
      "no mask\n",
      " mask\n",
      "no mask\n",
      " mask\n",
      "no mask\n",
      "no mask\n",
      " mask\n",
      "no mask\n",
      " mask\n",
      "no mask\n",
      " mask\n",
      " mask\n",
      "no mask\n",
      "no mask\n",
      " mask\n",
      "no mask\n",
      " mask\n",
      "no mask\n",
      " mask\n",
      "no mask\n",
      " mask\n",
      " mask\n",
      "no mask\n",
      " mask\n",
      "no mask\n",
      "no mask\n",
      " mask\n",
      " mask\n",
      "no mask\n",
      "no mask\n",
      " mask\n",
      "no mask\n",
      " mask\n",
      "no mask\n",
      " mask\n",
      "no mask\n",
      " mask\n",
      "no mask\n",
      " mask\n",
      " mask\n",
      "no mask\n",
      "no mask\n",
      " mask\n",
      "no mask\n",
      " mask\n",
      "no mask\n",
      " mask\n",
      "no mask\n",
      " mask\n",
      "no mask\n",
      " mask\n",
      "no mask\n",
      " mask\n",
      "no mask\n",
      " mask\n",
      "no mask\n",
      " mask\n",
      "no mask\n",
      " mask\n",
      "no mask\n",
      " mask\n",
      "no mask\n",
      " mask\n",
      "no mask\n",
      " mask\n",
      " mask\n",
      "no mask\n",
      "no mask\n",
      " mask\n",
      "no mask\n",
      " mask\n",
      "no mask\n",
      " mask\n",
      "no mask\n",
      " mask\n",
      "no mask\n",
      " mask\n",
      "no mask\n",
      " mask\n",
      "no mask\n",
      " mask\n",
      "no mask\n",
      "no mask\n",
      "no mask\n",
      " mask\n",
      "no mask\n",
      "no mask\n",
      "no mask\n",
      " mask\n",
      "no mask\n",
      " mask\n",
      "no mask\n",
      " mask\n",
      "no mask\n",
      "no mask\n",
      "no mask\n",
      " mask\n",
      "no mask\n",
      " mask\n",
      "no mask\n",
      " mask\n",
      "no mask\n",
      " mask\n",
      "no mask\n",
      " mask\n",
      "no mask\n",
      " mask\n",
      "no mask\n",
      "no mask\n",
      "no mask\n",
      " mask\n",
      "no mask\n",
      " mask\n",
      "no mask\n",
      " mask\n",
      "no mask\n",
      " mask\n",
      "no mask\n",
      "no mask\n",
      "no mask\n",
      "no mask\n",
      "no mask\n",
      "no mask\n",
      "no mask\n",
      "no mask\n",
      "no mask\n",
      "no mask\n",
      "no mask\n",
      "no mask\n",
      "no mask\n",
      "no mask\n",
      "no mask\n",
      "no mask\n",
      "no mask\n",
      "no mask\n",
      "no mask\n",
      "no mask\n",
      "no mask\n",
      "no mask\n",
      "no mask\n",
      "no mask\n",
      "no mask\n",
      "no mask\n",
      "no mask\n",
      "no mask\n",
      "no mask\n",
      "no mask\n",
      "no mask\n",
      "no mask\n",
      "no mask\n",
      "no mask\n",
      "no mask\n",
      "no mask\n",
      "no mask\n",
      "no mask\n",
      "no mask\n",
      "no mask\n",
      "no mask\n",
      "no mask\n",
      "no mask\n",
      "no mask\n",
      "no mask\n",
      "no mask\n",
      "no mask\n",
      "no mask\n",
      "no mask\n",
      "no mask\n",
      "no mask\n",
      "no mask\n",
      "no mask\n",
      "no mask\n",
      "no mask\n",
      "no mask\n",
      "no mask\n",
      "no mask\n",
      "no mask\n",
      "no mask\n",
      "no mask\n",
      "no mask\n",
      "no mask\n",
      "no mask\n",
      "no mask\n",
      "no mask\n",
      "no mask\n",
      "no mask\n",
      "no mask\n",
      "no mask\n",
      "no mask\n",
      "no mask\n",
      "no mask\n",
      "no mask\n",
      "no mask\n",
      "no mask\n",
      "no mask\n",
      "no mask\n",
      "no mask\n",
      "no mask\n",
      "no mask\n",
      "no mask\n",
      "no mask\n",
      "no mask\n",
      "no mask\n",
      "no mask\n",
      "no mask\n",
      "no mask\n",
      "no mask\n",
      "no mask\n",
      " mask\n",
      "no mask\n",
      "no mask\n",
      " mask\n",
      "no mask\n",
      "no mask\n",
      " mask\n"
     ]
    }
   ],
   "source": [
    "haar_data = cv2.CascadeClassifier('haarcascade_frontalface_default.xml')\n",
    "capture = cv2.VideoCapture(0)\n",
    "data = []\n",
    "font = cv2.FONT_HERSHEY_COMPLEX\n",
    "while True:\n",
    "    flag, img = capture.read()\n",
    "    if flag:\n",
    "        faces =  haar_data.detectMultiScale(img)\n",
    "        for x,y,w,h in faces:\n",
    "            cv2.rectangle(img,(x,y),(x+w,y+h),(255,0,0),4)\n",
    "            face = img[y:y+h, x:x+w, :]\n",
    "            face = cv2.resize(face,(50,50))\n",
    "            face = face.reshape(1,-1)\n",
    "           # face = pca.transform(face)\n",
    "            pred = svm.predict(face)[0]\n",
    "            n = names[int(pred)]\n",
    "            cv2.putText(img, n,(x,y), font, 1, (255,240,0), 2)\n",
    "            print(n)\n",
    "        cv2.imshow('result',img)\n",
    "        if cv2.waitKey(2) == 27:\n",
    "            break\n",
    "            #i have written code again so it will detect mask by turning on camera\n",
    "capture.release()\n",
    "cv2.destroyAllWindows()"
   ]
  },
  {
   "cell_type": "code",
   "execution_count": null,
   "id": "d654e135",
   "metadata": {},
   "outputs": [],
   "source": []
  }
 ],
 "metadata": {
  "kernelspec": {
   "display_name": "Python 3 (ipykernel)",
   "language": "python",
   "name": "python3"
  },
  "language_info": {
   "codemirror_mode": {
    "name": "ipython",
    "version": 3
   },
   "file_extension": ".py",
   "mimetype": "text/x-python",
   "name": "python",
   "nbconvert_exporter": "python",
   "pygments_lexer": "ipython3",
   "version": "3.10.3"
  }
 },
 "nbformat": 4,
 "nbformat_minor": 5
}
